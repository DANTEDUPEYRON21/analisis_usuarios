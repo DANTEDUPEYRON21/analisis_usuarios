{
 "cells": [
  {
   "cell_type": "markdown",
   "metadata": {},
   "source": [
    "# Sprint 11 - Proyecto\n",
    "\n",
    "Trabajas en una empresa emergente que vende productos alimenticios. Debes investigar el comportamiento del usuario para la aplicación de la empresa.\n",
    "\n",
    "---\n",
    "\n",
    "## Embudo de ventas\n",
    "\n",
    "Primero, estudia el embudo de ventas. Descubre cómo los usuarios llegan a la etapa de compra. ¿Cuántos usuarios realmente llegan a esta etapa? ¿Cuántos se atascan en etapas anteriores? ¿Qué etapas en particular?\n",
    "\n",
    "---\n",
    "\n",
    "## Test A/A/B\n",
    "\n",
    "Luego, observa los resultados de un test A/A/B . Al equipo de diseño le gustaría cambiar las fuentes de toda la aplicación, pero la gerencia teme que los usuarios piensen que el nuevo diseño es intimidante. Por ello, deciden tomar una decisión basada en los resultados de un test A/A/B.\n",
    "\n",
    "Los usuarios se dividen en tres grupos: dos grupos de control obtienen las fuentes antiguas y un grupo de prueba obtiene las nuevas. Descubre qué conjunto de fuentes produce mejores resultados.\n",
    "\n",
    "Crear dos grupos A tiene ciertas ventajas. Podemos establecer el principio de que solo confiaremos en la exactitud de nuestras pruebas cuando los dos grupos de control sean similares. Si hay diferencias significativas entre los grupos A, esto puede ayudarnos a descubrir factores que pueden estar distorsionando los resultados. La comparación de grupos de control también nos dice cuánto tiempo y datos necesitaremos cuando realicemos más tests.\n",
    "\n",
    "Utilizarás el mismo dataset para el análisis general y para el análisis A/A/B. En proyectos reales, los experimentos se llevan a cabo constantemente. El equipo de análisis estudia la calidad de una aplicación utilizando datos generales, sin prestar atención a si los usuarios participan en experimentos.\n",
    "\n",
    "---\n",
    "\n",
    "## Descripción de los datos\n",
    "\n",
    "Cada entrada de registro es una acción de usuario o un evento.\n",
    "\n",
    "- **EventName**: nombre del evento.  \n",
    "- **DeviceIDHash**: identificador de usuario unívoco.  \n",
    "- **EventTimestamp**: hora del evento.  \n",
    "- **ExpId**: número de experimento. 246 y 247 son los grupos de control, y 248 es el grupo de prueba.\n"
   ]
  },
  {
   "cell_type": "markdown",
   "metadata": {},
   "source": [
    "## Preparar los datos para el análisis"
   ]
  },
  {
   "cell_type": "code",
   "execution_count": 1,
   "metadata": {},
   "outputs": [],
   "source": [
    "# Importar librerias \n",
    "import pandas as pd \n",
    "import matplotlib.pyplot as plt\n",
    "import seaborn as sns\n",
    "import numpy as np\n",
    "from statsmodels.stats.proportion import proportions_ztest\n",
    "from scipy.stats import ttest_ind"
   ]
  },
  {
   "cell_type": "code",
   "execution_count": 2,
   "metadata": {},
   "outputs": [],
   "source": [
    "# Cargar archivo CSV\n",
    "logs = pd.read_csv('logs_exp_us.csv',sep='\\t')"
   ]
  },
  {
   "cell_type": "code",
   "execution_count": 3,
   "metadata": {},
   "outputs": [
    {
     "name": "stdout",
     "output_type": "stream",
     "text": [
      "<class 'pandas.core.frame.DataFrame'>\n",
      "RangeIndex: 244126 entries, 0 to 244125\n",
      "Data columns (total 4 columns):\n",
      " #   Column          Non-Null Count   Dtype \n",
      "---  ------          --------------   ----- \n",
      " 0   EventName       244126 non-null  object\n",
      " 1   DeviceIDHash    244126 non-null  int64 \n",
      " 2   EventTimestamp  244126 non-null  int64 \n",
      " 3   ExpId           244126 non-null  int64 \n",
      "dtypes: int64(3), object(1)\n",
      "memory usage: 7.5+ MB\n"
     ]
    }
   ],
   "source": [
    "#Explorar\n",
    "logs.info()"
   ]
  },
  {
   "cell_type": "code",
   "execution_count": 4,
   "metadata": {},
   "outputs": [],
   "source": [
    "# Convertir nombres de columnas a minúsculas\n",
    "logs.columns = logs.columns.str.lower()\n"
   ]
  },
  {
   "cell_type": "code",
   "execution_count": 5,
   "metadata": {},
   "outputs": [],
   "source": [
    "# Renombrar columnas específicas\n",
    "logs = logs.rename(columns={\n",
    "    'deviceidhash': 'device_id',\n",
    "    'eventtimestamp': 'timestamp',\n",
    "    'eventname': 'event_name',\n",
    "    'expid': 'experiment'\n",
    "})"
   ]
  },
  {
   "cell_type": "code",
   "execution_count": 6,
   "metadata": {},
   "outputs": [],
   "source": [
    "# Convertir el timestamp (en segundos) a datetime\n",
    "logs['timestamp'] = pd.to_datetime(logs['timestamp'], unit='s')"
   ]
  },
  {
   "cell_type": "code",
   "execution_count": 7,
   "metadata": {},
   "outputs": [],
   "source": [
    "# Crear nueva columna solo con la fecha\n",
    "logs['date'] = logs['timestamp'].dt.date"
   ]
  },
  {
   "cell_type": "code",
   "execution_count": 8,
   "metadata": {},
   "outputs": [
    {
     "data": {
      "text/html": [
       "<div>\n",
       "<style scoped>\n",
       "    .dataframe tbody tr th:only-of-type {\n",
       "        vertical-align: middle;\n",
       "    }\n",
       "\n",
       "    .dataframe tbody tr th {\n",
       "        vertical-align: top;\n",
       "    }\n",
       "\n",
       "    .dataframe thead th {\n",
       "        text-align: right;\n",
       "    }\n",
       "</style>\n",
       "<table border=\"1\" class=\"dataframe\">\n",
       "  <thead>\n",
       "    <tr style=\"text-align: right;\">\n",
       "      <th></th>\n",
       "      <th>event_name</th>\n",
       "      <th>device_id</th>\n",
       "      <th>timestamp</th>\n",
       "      <th>experiment</th>\n",
       "      <th>date</th>\n",
       "    </tr>\n",
       "  </thead>\n",
       "  <tbody>\n",
       "    <tr>\n",
       "      <th>0</th>\n",
       "      <td>MainScreenAppear</td>\n",
       "      <td>4575588528974610257</td>\n",
       "      <td>2019-07-25 04:43:36</td>\n",
       "      <td>246</td>\n",
       "      <td>2019-07-25</td>\n",
       "    </tr>\n",
       "    <tr>\n",
       "      <th>1</th>\n",
       "      <td>MainScreenAppear</td>\n",
       "      <td>7416695313311560658</td>\n",
       "      <td>2019-07-25 11:11:42</td>\n",
       "      <td>246</td>\n",
       "      <td>2019-07-25</td>\n",
       "    </tr>\n",
       "    <tr>\n",
       "      <th>2</th>\n",
       "      <td>PaymentScreenSuccessful</td>\n",
       "      <td>3518123091307005509</td>\n",
       "      <td>2019-07-25 11:28:47</td>\n",
       "      <td>248</td>\n",
       "      <td>2019-07-25</td>\n",
       "    </tr>\n",
       "    <tr>\n",
       "      <th>3</th>\n",
       "      <td>CartScreenAppear</td>\n",
       "      <td>3518123091307005509</td>\n",
       "      <td>2019-07-25 11:28:47</td>\n",
       "      <td>248</td>\n",
       "      <td>2019-07-25</td>\n",
       "    </tr>\n",
       "    <tr>\n",
       "      <th>4</th>\n",
       "      <td>PaymentScreenSuccessful</td>\n",
       "      <td>6217807653094995999</td>\n",
       "      <td>2019-07-25 11:48:42</td>\n",
       "      <td>248</td>\n",
       "      <td>2019-07-25</td>\n",
       "    </tr>\n",
       "    <tr>\n",
       "      <th>...</th>\n",
       "      <td>...</td>\n",
       "      <td>...</td>\n",
       "      <td>...</td>\n",
       "      <td>...</td>\n",
       "      <td>...</td>\n",
       "    </tr>\n",
       "    <tr>\n",
       "      <th>244121</th>\n",
       "      <td>MainScreenAppear</td>\n",
       "      <td>4599628364049201812</td>\n",
       "      <td>2019-08-07 21:12:25</td>\n",
       "      <td>247</td>\n",
       "      <td>2019-08-07</td>\n",
       "    </tr>\n",
       "    <tr>\n",
       "      <th>244122</th>\n",
       "      <td>MainScreenAppear</td>\n",
       "      <td>5849806612437486590</td>\n",
       "      <td>2019-08-07 21:13:59</td>\n",
       "      <td>246</td>\n",
       "      <td>2019-08-07</td>\n",
       "    </tr>\n",
       "    <tr>\n",
       "      <th>244123</th>\n",
       "      <td>MainScreenAppear</td>\n",
       "      <td>5746969938801999050</td>\n",
       "      <td>2019-08-07 21:14:43</td>\n",
       "      <td>246</td>\n",
       "      <td>2019-08-07</td>\n",
       "    </tr>\n",
       "    <tr>\n",
       "      <th>244124</th>\n",
       "      <td>MainScreenAppear</td>\n",
       "      <td>5746969938801999050</td>\n",
       "      <td>2019-08-07 21:14:58</td>\n",
       "      <td>246</td>\n",
       "      <td>2019-08-07</td>\n",
       "    </tr>\n",
       "    <tr>\n",
       "      <th>244125</th>\n",
       "      <td>OffersScreenAppear</td>\n",
       "      <td>5746969938801999050</td>\n",
       "      <td>2019-08-07 21:15:17</td>\n",
       "      <td>246</td>\n",
       "      <td>2019-08-07</td>\n",
       "    </tr>\n",
       "  </tbody>\n",
       "</table>\n",
       "<p>244126 rows × 5 columns</p>\n",
       "</div>"
      ],
      "text/plain": [
       "                     event_name            device_id           timestamp  \\\n",
       "0              MainScreenAppear  4575588528974610257 2019-07-25 04:43:36   \n",
       "1              MainScreenAppear  7416695313311560658 2019-07-25 11:11:42   \n",
       "2       PaymentScreenSuccessful  3518123091307005509 2019-07-25 11:28:47   \n",
       "3              CartScreenAppear  3518123091307005509 2019-07-25 11:28:47   \n",
       "4       PaymentScreenSuccessful  6217807653094995999 2019-07-25 11:48:42   \n",
       "...                         ...                  ...                 ...   \n",
       "244121         MainScreenAppear  4599628364049201812 2019-08-07 21:12:25   \n",
       "244122         MainScreenAppear  5849806612437486590 2019-08-07 21:13:59   \n",
       "244123         MainScreenAppear  5746969938801999050 2019-08-07 21:14:43   \n",
       "244124         MainScreenAppear  5746969938801999050 2019-08-07 21:14:58   \n",
       "244125       OffersScreenAppear  5746969938801999050 2019-08-07 21:15:17   \n",
       "\n",
       "        experiment        date  \n",
       "0              246  2019-07-25  \n",
       "1              246  2019-07-25  \n",
       "2              248  2019-07-25  \n",
       "3              248  2019-07-25  \n",
       "4              248  2019-07-25  \n",
       "...            ...         ...  \n",
       "244121         247  2019-08-07  \n",
       "244122         246  2019-08-07  \n",
       "244123         246  2019-08-07  \n",
       "244124         246  2019-08-07  \n",
       "244125         246  2019-08-07  \n",
       "\n",
       "[244126 rows x 5 columns]"
      ]
     },
     "execution_count": 8,
     "metadata": {},
     "output_type": "execute_result"
    }
   ],
   "source": [
    "logs"
   ]
  },
  {
   "cell_type": "markdown",
   "metadata": {},
   "source": [
    "## Estudiar y comprobar los datos"
   ]
  },
  {
   "cell_type": "markdown",
   "metadata": {},
   "source": [
    "### ¿Cuántos eventos hay en los registros?"
   ]
  },
  {
   "cell_type": "code",
   "execution_count": 9,
   "metadata": {},
   "outputs": [
    {
     "name": "stdout",
     "output_type": "stream",
     "text": [
      "tenemos 244126 eventos en los registros\n"
     ]
    }
   ],
   "source": [
    "# Total de eventos en el dataset\n",
    "total_events = logs.shape[0]\n",
    "print(f\"tenemos {total_events} eventos en los registros\")"
   ]
  },
  {
   "cell_type": "markdown",
   "metadata": {},
   "source": [
    "### ¿Cuántos usuarios hay en los registros?"
   ]
  },
  {
   "cell_type": "code",
   "execution_count": 10,
   "metadata": {},
   "outputs": [
    {
     "name": "stdout",
     "output_type": "stream",
     "text": [
      "tenemos 7551 usuarios únicos\n"
     ]
    }
   ],
   "source": [
    "# Total de usuarios únicos \n",
    "unique_users = logs['device_id'].nunique()\n",
    "print(f\"tenemos {unique_users} usuarios únicos\")"
   ]
  },
  {
   "cell_type": "markdown",
   "metadata": {},
   "source": [
    "### ¿Cuál es el promedio de eventos por usuario?"
   ]
  },
  {
   "cell_type": "code",
   "execution_count": 11,
   "metadata": {},
   "outputs": [
    {
     "name": "stdout",
     "output_type": "stream",
     "text": [
      "El promedio de eventos por usuario es de 32.33\n"
     ]
    }
   ],
   "source": [
    "# Promedio de eventos por usuario\n",
    "avg_events_per_user = total_events / unique_users\n",
    "print(f\"El promedio de eventos por usuario es de {avg_events_per_user:.2f}\")"
   ]
  },
  {
   "cell_type": "markdown",
   "metadata": {},
   "source": [
    "### ¿Qué periodo de tiempo cubren los datos?"
   ]
  },
  {
   "cell_type": "code",
   "execution_count": 12,
   "metadata": {},
   "outputs": [
    {
     "name": "stdout",
     "output_type": "stream",
     "text": [
      "El periodo de datos abarca desde 2019-07-25 04:43:36 hasta 2019-08-07 21:15:17\n"
     ]
    }
   ],
   "source": [
    "min_date = logs['timestamp'].min()\n",
    "max_date = logs['timestamp'].max()\n",
    "\n",
    "print(f\"El periodo de datos abarca desde {min_date} hasta {max_date}\")"
   ]
  },
  {
   "cell_type": "markdown",
   "metadata": {},
   "source": [
    "### ¿Qué periodo representan realmente los datos?"
   ]
  },
  {
   "cell_type": "code",
   "execution_count": 13,
   "metadata": {},
   "outputs": [
    {
     "data": {
      "text/plain": [
       "date\n",
       "2019-07-25        9\n",
       "2019-07-26       31\n",
       "2019-07-27       55\n",
       "2019-07-28      105\n",
       "2019-07-29      184\n",
       "2019-07-30      413\n",
       "2019-07-31     2031\n",
       "2019-08-01    36229\n",
       "2019-08-02    35606\n",
       "2019-08-03    33351\n",
       "2019-08-04    33033\n",
       "2019-08-05    36113\n",
       "2019-08-06    35822\n",
       "2019-08-07    31144\n",
       "dtype: int64"
      ]
     },
     "execution_count": 13,
     "metadata": {},
     "output_type": "execute_result"
    }
   ],
   "source": [
    "#Contar eventos por día\n",
    "events_per_day = logs.groupby('date').size()\n",
    "events_per_day"
   ]
  },
  {
   "cell_type": "code",
   "execution_count": 14,
   "metadata": {},
   "outputs": [
    {
     "data": {
      "image/png": "[encoded data removed]",
      "text/plain": [
       "<Figure size 1400x500 with 1 Axes>"
      ]
     },
     "metadata": {},
     "output_type": "display_data"
    }
   ],
   "source": [
    "events_per_day.plot(kind='bar', figsize=(14,5))\n",
    "plt.title('Eventos por día')\n",
    "plt.xlabel('Fecha')\n",
    "plt.ylabel('Número de eventos')\n",
    "plt.xticks(rotation=45)\n",
    "plt.tight_layout()\n",
    "plt.show()"
   ]
  },
  {
   "cell_type": "markdown",
   "metadata": {},
   "source": [
    "El momento en que los datos comienzan a estar completos es el 1 de agosto de 2019. Desde esa fecha en adelante, los volúmenes son estables y altos, lo que indica que el sistema de seguimiento ya estaba funcionando correctamente"
   ]
  },
  {
   "cell_type": "markdown",
   "metadata": {},
   "source": [
    "### ¿Perdiste muchos eventos y usuarios al excluir los datos más antiguos?"
   ]
  },
  {
   "cell_type": "code",
   "execution_count": 15,
   "metadata": {},
   "outputs": [],
   "source": [
    "# Filtrar a partir del 1 de agosto de 2019\n",
    "filtered_logs = logs[logs['timestamp'] >= '2019-08-01']"
   ]
  },
  {
   "cell_type": "code",
   "execution_count": 16,
   "metadata": {},
   "outputs": [],
   "source": [
    "# Totales después del filtro\n",
    "total_events_filtered = filtered_logs.shape[0]\n",
    "unique_users_filtered = filtered_logs['device_id'].nunique()"
   ]
  },
  {
   "cell_type": "code",
   "execution_count": 17,
   "metadata": {},
   "outputs": [
    {
     "name": "stdout",
     "output_type": "stream",
     "text": [
      "No se perdieron muchos eventos ni usuarios al excluir los datos más antiguos.\n",
      "Eventos perdidos: 1.16%\n",
      "Usuarios perdidos: 0.23%\n"
     ]
    }
   ],
   "source": [
    "# Pérdidas en porcentaje\n",
    "event_loss = 100 * (total_events - total_events_filtered) / total_events\n",
    "user_loss = 100 * (unique_users - unique_users_filtered) / unique_users\n",
    "print(\"No se perdieron muchos eventos ni usuarios al excluir los datos más antiguos.\")\n",
    "print(f\"Eventos perdidos: {event_loss:.2f}%\")\n",
    "print(f\"Usuarios perdidos: {user_loss:.2f}%\")"
   ]
  },
  {
   "cell_type": "markdown",
   "metadata": {},
   "source": [
    "### Asegúrate de tener usuarios de los tres grupos experimentales."
   ]
  },
  {
   "cell_type": "code",
   "execution_count": 18,
   "metadata": {},
   "outputs": [
    {
     "name": "stdout",
     "output_type": "stream",
     "text": [
      "experiment\n",
      "246    2489\n",
      "247    2520\n",
      "248    2542\n",
      "Name: device_id, dtype: int64\n"
     ]
    }
   ],
   "source": [
    "users_per_group_ = logs.groupby('experiment')['device_id'].nunique()\n",
    "print(users_per_group_)"
   ]
  },
  {
   "cell_type": "code",
   "execution_count": 19,
   "metadata": {},
   "outputs": [
    {
     "name": "stdout",
     "output_type": "stream",
     "text": [
      "experiment\n",
      "246    2484\n",
      "247    2513\n",
      "248    2537\n",
      "Name: device_id, dtype: int64\n"
     ]
    }
   ],
   "source": [
    "users_per_group = filtered_logs.groupby('experiment')['device_id'].nunique()\n",
    "print(users_per_group)"
   ]
  },
  {
   "cell_type": "markdown",
   "metadata": {},
   "source": [
    "La pérdida de usuarios por grupo es mínima (solo 5 a 7 usuarios por grupo), lo cual confirma que la gran mayoría de los usuarios activos pertenecen al periodo representativo."
   ]
  },
  {
   "cell_type": "markdown",
   "metadata": {},
   "source": [
    "## Estudiar el embudo de eventos"
   ]
  },
  {
   "cell_type": "code",
   "execution_count": 20,
   "metadata": {},
   "outputs": [
    {
     "data": {
      "text/plain": [
       "event_name\n",
       "MainScreenAppear           117431\n",
       "OffersScreenAppear          46350\n",
       "CartScreenAppear            42365\n",
       "PaymentScreenSuccessful     34113\n",
       "Tutorial                     1039\n",
       "Name: count, dtype: int64"
      ]
     },
     "execution_count": 20,
     "metadata": {},
     "output_type": "execute_result"
    }
   ],
   "source": [
    "# Contar frecuencia de cada tipo de evento\n",
    "event_frequencies = filtered_logs['event_name'].value_counts()\n",
    "event_frequencies"
   ]
  },
  {
   "cell_type": "code",
   "execution_count": 21,
   "metadata": {},
   "outputs": [
    {
     "data": {
      "text/plain": [
       "event_name\n",
       "MainScreenAppear           7419\n",
       "OffersScreenAppear         4593\n",
       "CartScreenAppear           3734\n",
       "PaymentScreenSuccessful    3539\n",
       "Tutorial                    840\n",
       "Name: device_id, dtype: int64"
      ]
     },
     "execution_count": 21,
     "metadata": {},
     "output_type": "execute_result"
    }
   ],
   "source": [
    "#Contar cuántos usuarios únicos pasaron por cada etapa del embudo.\n",
    "users_per_event = filtered_logs.groupby('event_name')['device_id'].nunique().sort_values(ascending=False)\n",
    "users_per_event"
   ]
  },
  {
   "cell_type": "code",
   "execution_count": 22,
   "metadata": {},
   "outputs": [
    {
     "data": {
      "text/plain": [
       "7534"
      ]
     },
     "execution_count": 22,
     "metadata": {},
     "output_type": "execute_result"
    }
   ],
   "source": [
    "#Proporción de usuarios que realizaron la acción al menos una vez \n",
    "users_total = filtered_logs['device_id'].nunique()\n",
    "users_total"
   ]
  },
  {
   "cell_type": "code",
   "execution_count": 23,
   "metadata": {},
   "outputs": [
    {
     "data": {
      "image/png": "[encoded data removed]",
      "text/plain": [
       "<Figure size 1000x600 with 1 Axes>"
      ]
     },
     "metadata": {},
     "output_type": "display_data"
    }
   ],
   "source": [
    "plt.figure(figsize=(10, 6))\n",
    "users_per_event.plot(kind='barh', color='skyblue')\n",
    "plt.xlabel(\"Número de usuarios\")\n",
    "plt.title(\"Embudo de conversión de usuarios\")\n",
    "plt.gca().invert_yaxis() \n",
    "plt.tight_layout()\n",
    "plt.show()"
   ]
  },
  {
   "cell_type": "markdown",
   "metadata": {},
   "source": [
    "Las acciones parecen seguir una secuencia lógica que representa el embudo principal de ventas, los usuarios abren la aplicación (MainScreenAppear), exploran productos (OffersScreenAppear), revisan el carrito (CartScreenAppear) y finalizan la compra (PaymentScreenSuccessful).\n",
    "\n",
    "El evento Tutorial, por su baja frecuencia, no forma parte del embudo principal."
   ]
  },
  {
   "cell_type": "code",
   "execution_count": 24,
   "metadata": {},
   "outputs": [
    {
     "data": {
      "text/plain": [
       "event_name\n",
       "MainScreenAppear           0.984736\n",
       "OffersScreenAppear         0.609636\n",
       "CartScreenAppear           0.495620\n",
       "PaymentScreenSuccessful    0.469737\n",
       "Tutorial                   0.111495\n",
       "Name: device_id, dtype: float64"
      ]
     },
     "execution_count": 24,
     "metadata": {},
     "output_type": "execute_result"
    }
   ],
   "source": [
    "users_per_event_ratio = users_per_event / users_total\n",
    "users_per_event_ratio"
   ]
  },
  {
   "cell_type": "code",
   "execution_count": 25,
   "metadata": {},
   "outputs": [
    {
     "name": "stdout",
     "output_type": "stream",
     "text": [
      "Tasa Main → Offer: 61.91%\n",
      "Tasa Offer → Cart: 81.30%\n",
      "Tasa Cart → Payment: 94.78%\n",
      "Tasa total Main → Payment: 47.70%\n"
     ]
    }
   ],
   "source": [
    "main = users_per_event['MainScreenAppear']\n",
    "offers = users_per_event['OffersScreenAppear']\n",
    "cart = users_per_event['CartScreenAppear']\n",
    "payment = users_per_event['PaymentScreenSuccessful']\n",
    "\n",
    "print(f\"Tasa Main → Offer: {offers / main:.2%}\")\n",
    "print(f\"Tasa Offer → Cart: {cart / offers:.2%}\")\n",
    "print(f\"Tasa Cart → Payment: {payment / cart:.2%}\")\n",
    "print(f\"Tasa total Main → Payment: {payment / main:.2%}\")"
   ]
  },
  {
   "cell_type": "markdown",
   "metadata": {},
   "source": [
    "La mayor pérdida de usuarios ocurre entre la pantalla principal y la pantalla de ofertas, donde aproximadamente el 38% no continúa. Aun así, el 47.7% de los usuarios únicos que comienzan el recorrido llegan hasta completar el pago."
   ]
  },
  {
   "cell_type": "markdown",
   "metadata": {},
   "source": [
    "## Estudiar los resultados del experimento"
   ]
  },
  {
   "cell_type": "code",
   "execution_count": 26,
   "metadata": {},
   "outputs": [
    {
     "data": {
      "text/plain": [
       "experiment\n",
       "246    2484\n",
       "247    2513\n",
       "248    2537\n",
       "Name: device_id, dtype: int64"
      ]
     },
     "execution_count": 26,
     "metadata": {},
     "output_type": "execute_result"
    }
   ],
   "source": [
    "users_per_group"
   ]
  },
  {
   "cell_type": "code",
   "execution_count": 27,
   "metadata": {},
   "outputs": [],
   "source": [
    "def test_event_proportion(event, group1, group2):\n",
    "    group_data = filtered_logs[\n",
    "        (filtered_logs['event_name'] == event) & \n",
    "        (filtered_logs['experiment'].isin([group1, group2]))\n",
    "    ]\n",
    "    \n",
    "    users_group1 = group_data[group_data['experiment'] == group1]['device_id'].nunique()\n",
    "    total_group1 = filtered_logs[filtered_logs['experiment'] == group1]['device_id'].nunique()\n",
    "    \n",
    "    users_group2 = group_data[group_data['experiment'] == group2]['device_id'].nunique()\n",
    "    total_group2 = filtered_logs[filtered_logs['experiment'] == group2]['device_id'].nunique()\n",
    "    \n",
    "    counts = [users_group1, users_group2]\n",
    "    nobs = [total_group1, total_group2]\n",
    "    \n",
    "    stat, pval = proportions_ztest(count=counts, nobs=nobs)\n",
    "    \n",
    "    print(f\"Evento: {event}\")\n",
    "    print(f\"Grupo {group1}: {users_group1}/{total_group1} → {users_group1/total_group1:.2%}\")\n",
    "    print(f\"Grupo {group2}: {users_group2}/{total_group2} → {users_group2/total_group2:.2%}\")\n",
    "    print(f\"Estadístico z: {stat:.4f}, Valor p: {pval:.4f}\")"
   ]
  },
  {
   "cell_type": "code",
   "execution_count": 28,
   "metadata": {},
   "outputs": [
    {
     "name": "stdout",
     "output_type": "stream",
     "text": [
      "Evento: MainScreenAppear\n",
      "Grupo 246: 2450/2484 → 98.63%\n",
      "Grupo 247: 2476/2513 → 98.53%\n",
      "Estadístico z: 0.3093, Valor p: 0.7571\n"
     ]
    }
   ],
   "source": [
    "test_event_proportion('MainScreenAppear', 246, 247)"
   ]
  },
  {
   "cell_type": "code",
   "execution_count": 29,
   "metadata": {},
   "outputs": [
    {
     "name": "stdout",
     "output_type": "stream",
     "text": [
      "Evento: PaymentScreenSuccessful\n",
      "Grupo 246: 1200/2484 → 48.31%\n",
      "Grupo 247: 1158/2513 → 46.08%\n",
      "Estadístico z: 1.5780, Valor p: 0.1146\n"
     ]
    }
   ],
   "source": [
    "test_event_proportion('PaymentScreenSuccessful', 246, 247)"
   ]
  },
  {
   "cell_type": "code",
   "execution_count": 30,
   "metadata": {},
   "outputs": [
    {
     "name": "stdout",
     "output_type": "stream",
     "text": [
      "Evento: CartScreenAppear\n",
      "Grupo 246: 1266/2484 → 50.97%\n",
      "Grupo 247: 1238/2513 → 49.26%\n",
      "Estadístico z: 1.2034, Valor p: 0.2288\n"
     ]
    }
   ],
   "source": [
    "test_event_proportion('CartScreenAppear', 246, 247)"
   ]
  },
  {
   "cell_type": "code",
   "execution_count": 31,
   "metadata": {},
   "outputs": [
    {
     "name": "stdout",
     "output_type": "stream",
     "text": [
      "Evento: OffersScreenAppear\n",
      "Grupo 246: 1542/2484 → 62.08%\n",
      "Grupo 247: 1520/2513 → 60.49%\n",
      "Estadístico z: 1.1550, Valor p: 0.2481\n"
     ]
    }
   ],
   "source": [
    "test_event_proportion('OffersScreenAppear', 246, 247)"
   ]
  },
  {
   "cell_type": "markdown",
   "metadata": {},
   "source": [
    " los dos grupos de control (246 y 247) se comportaron de forma estadísticamente similar, lo que valida que la asignación aleatoria de usuarios fue adecuada"
   ]
  },
  {
   "cell_type": "code",
   "execution_count": 32,
   "metadata": {},
   "outputs": [],
   "source": [
    "from statsmodels.stats.proportion import proportions_ztest\n",
    "\n",
    "def test_experiment_vs_control(event_name):\n",
    "    # Usuarios en grupo 248 que hicieron el evento\n",
    "    users_test = filtered_logs[\n",
    "        (filtered_logs['experiment'] == 248) &\n",
    "        (filtered_logs['event_name'] == event_name)\n",
    "    ]['device_id'].nunique()\n",
    "\n",
    "    total_test = filtered_logs[filtered_logs['experiment'] == 248]['device_id'].nunique()\n",
    "\n",
    "    # Usuarios en grupo 246 y 247 combinados que hicieron el evento\n",
    "    users_control = filtered_logs[\n",
    "        (filtered_logs['experiment'].isin([246, 247])) &\n",
    "        (filtered_logs['event_name'] == event_name)\n",
    "    ]['device_id'].nunique()\n",
    "\n",
    "    total_control = filtered_logs[filtered_logs['experiment'].isin([246, 247])]['device_id'].nunique()\n",
    "\n",
    "    # Test estadístico\n",
    "    count = [users_test, users_control]\n",
    "    nobs = [total_test, total_control]\n",
    "\n",
    "    stat, pval = proportions_ztest(count, nobs)\n",
    "\n",
    "    print(f\"Evento: {event_name}\")\n",
    "    print(f\"Grupo 248 (prueba): {users_test}/{total_test} → {users_test / total_test:.2%}\")\n",
    "    print(f\"Grupo control (246+247): {users_control}/{total_control} → {users_control / total_control:.2%}\")\n",
    "    print(f\"Estadístico z: {stat:.4f}, Valor p: {pval:.4f}\")\n",
    "    print(\"---\")\n"
   ]
  },
  {
   "cell_type": "code",
   "execution_count": 33,
   "metadata": {},
   "outputs": [
    {
     "name": "stdout",
     "output_type": "stream",
     "text": [
      "Evento: MainScreenAppear\n",
      "Grupo 248 (prueba): 2493/2537 → 98.27%\n",
      "Grupo control (246+247): 4926/4997 → 98.58%\n",
      "Estadístico z: -1.0489, Valor p: 0.2942\n",
      "---\n",
      "Evento: OffersScreenAppear\n",
      "Grupo 248 (prueba): 1531/2537 → 60.35%\n",
      "Grupo control (246+247): 3062/4997 → 61.28%\n",
      "Estadístico z: -0.7819, Valor p: 0.4343\n",
      "---\n",
      "Evento: CartScreenAppear\n",
      "Grupo 248 (prueba): 1230/2537 → 48.48%\n",
      "Grupo control (246+247): 2504/4997 → 50.11%\n",
      "Estadístico z: -1.3354, Valor p: 0.1818\n",
      "---\n",
      "Evento: PaymentScreenSuccessful\n",
      "Grupo 248 (prueba): 1181/2537 → 46.55%\n",
      "Grupo control (246+247): 2358/4997 → 47.19%\n",
      "Estadístico z: -0.5238, Valor p: 0.6004\n",
      "---\n"
     ]
    }
   ],
   "source": [
    "test_experiment_vs_control('MainScreenAppear')\n",
    "test_experiment_vs_control('OffersScreenAppear')\n",
    "test_experiment_vs_control('CartScreenAppear')\n",
    "test_experiment_vs_control('PaymentScreenSuccessful')\n"
   ]
  },
  {
   "cell_type": "markdown",
   "metadata": {},
   "source": [
    "No se encontraron diferencias estadísticamente significativas entre el grupo de prueba (248, con las nuevas fuentes) y los grupos de control combinados (246 + 247).\n",
    "Esto indica que el cambio en las fuentes no afectó negativamente el comportamiento de los usuarios, al menos en las métricas clave del embudo."
   ]
  },
  {
   "cell_type": "markdown",
   "metadata": {},
   "source": [
    "### Corrección de Bonferroni "
   ]
  },
  {
   "cell_type": "code",
   "execution_count": 34,
   "metadata": {},
   "outputs": [
    {
     "name": "stdout",
     "output_type": "stream",
     "text": [
      "Nivel de significancia ajustado (Bonferroni): 0.0063\n"
     ]
    }
   ],
   "source": [
    "alpha_original = 0.05\n",
    "num_tests = 8\n",
    "alpha_bonferroni = alpha_original / num_tests\n",
    "print(f\"Nivel de significancia ajustado (Bonferroni): {alpha_bonferroni:.4f}\")"
   ]
  },
  {
   "cell_type": "markdown",
   "metadata": {},
   "source": [
    "En estos casos, es importante controlar el riesgo de obtener falsos positivos por azar. Por ello, se aplicó la corrección de Bonferroni, que ajusta el nivel de significancia dividiendo el valor original (0.05) entre el número de pruebas realizadas. El nuevo umbral ajustado fue de 0.00625. Incluso con este criterio más estricto, ninguno de los resultados se acercó al valor crítico, lo cual refuerza aún más la solidez de las conclusiones obtenidas."
   ]
  },
  {
   "cell_type": "markdown",
   "metadata": {},
   "source": [
    "### Conclusiones"
   ]
  },
  {
   "cell_type": "markdown",
   "metadata": {},
   "source": [
    "Los resultados del experimento indican que el nuevo diseño tipográfico puede implementarse sin riesgo, ya que no afecta negativamente el comportamiento de los usuarios. Sin embargo, tampoco se observó una mejora significativa en ninguna de las métricas clave del embudo de conversión.\n",
    "\n",
    "Por lo tanto, si el objetivo principal del rediseño es mejorar la estética, estandarizar el estilo visual o alinear la interfaz con lineamientos de marca, su implementación es totalmente válida. En cambio, si se esperaba que este cambio impulsara un aumento en la conversión o en el uso de la aplicación, los datos no ofrecen evidencia suficiente para respaldar tal efecto."
   ]
  }
 ],
 "metadata": {
  "kernelspec": {
   "display_name": "Python 3",
   "language": "python",
   "name": "python3"
  },
  "language_info": {
   "codemirror_mode": {
    "name": "ipython",
    "version": 3
   },
   "file_extension": ".py",
   "mimetype": "text/x-python",
   "name": "python",
   "nbconvert_exporter": "python",
   "pygments_lexer": "ipython3",
   "version": "3.13.2"
  }
 },
 "nbformat": 4,
 "nbformat_minor": 2
}
